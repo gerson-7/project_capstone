{
 "cells": [
  {
   "cell_type": "markdown",
   "metadata": {},
   "source": [
    "# Preferred areas to start a tourism business"
   ]
  },
  {
   "cell_type": "markdown",
   "metadata": {},
   "source": [
    "## Background: \n",
    "#### Most major cities are marketed based on their tourism potential. Some of these places are only known by the locals. If a person wants to start a tourism business (or an existing tourism company wants to expand), it would be wise to have a premisse in close proximity to tourism places, so that you can also play the role of guide. "
   ]
  },
  {
   "cell_type": "markdown",
   "metadata": {},
   "source": [
    "## Synopsis:\n",
    "1.\tObtain a list of commercial properties for sale in a city: \n",
    "    1.\tMy city of choice is Cape Town, South Africa\n",
    "    1.\tI will use a local website for commercial properties: https://property.mg.co.za/commercial-property-for-sale-in-cape-town-c432\n",
    "1.\tDetermine the number of and rating of “points of interest” near these commercial properties using Foursquare.\n",
    "1.\tSuggest the best properties to pursue for establishing a tourism business close to well-rated tourism attractions (points of interest)."
   ]
  },
  {
   "cell_type": "markdown",
   "metadata": {},
   "source": [
    "## Data\n",
    "### Data acquisition:\n",
    "- The website data will be scraped to find the name of the property, selling price and are in Cape Town.\n",
    "- If data scraping is unsuccessful, the relevant data will be copied to a csv file and imported.\n",
    "- The areas from the website data will be used to obtain data from Foursquare, particularly the name, location and rating for the point of interest.\n",
    "\n",
    "### Data classification:\n",
    "- This data will be used to cluster the points of interest in the same vicinity as the commercial property to determine the better places to start a tourism business. \n",
    "- The clusters will be presented on a map to show density and proximity to other landmarks."
   ]
  },
  {
   "cell_type": "code",
   "execution_count": null,
   "metadata": {},
   "outputs": [],
   "source": []
  }
 ],
 "metadata": {
  "kernelspec": {
   "display_name": "Python 3",
   "language": "python",
   "name": "python3"
  },
  "language_info": {
   "codemirror_mode": {
    "name": "ipython",
    "version": 3
   },
   "file_extension": ".py",
   "mimetype": "text/x-python",
   "name": "python",
   "nbconvert_exporter": "python",
   "pygments_lexer": "ipython3",
   "version": "3.7.3"
  }
 },
 "nbformat": 4,
 "nbformat_minor": 4
}
