{
 "cells": [
  {
   "cell_type": "markdown",
   "metadata": {},
   "source": [
    "# Preferred areas to start a tourism business"
   ]
  },
  {
   "cell_type": "markdown",
   "metadata": {},
   "source": [
    "## Background: \n",
    "#### Most major cities are marketed based on their tourism potential. Some of these places are only known by the locals. If a person wants to start a tourism business (or an existing tourism company wants to expand), it would be wise to have a premisse in close proximity to tourism places, so that you can also play the role of guide. "
   ]
  },
  {
   "cell_type": "markdown",
   "metadata": {},
   "source": [
    "## Synopsis:\n",
    "1.\tObtain a list of commercial properties for sale in a city: \n",
    "    1.\tMy city of choice is Cape Town, South Africa\n",
    "    1.\tI will use a local website for commercial properties: https://property.mg.co.za/commercial-property-for-sale-in-cape-town-c432\n",
    "1.\tDetermine the number of and rating of “points of interest” near these commercial properties using Foursquare.\n",
    "1.\tSuggest the best properties to pursue for establishing a tourism business close to well-rated tourism attractions (points of interest)."
   ]
  },
  {
   "cell_type": "markdown",
   "metadata": {},
   "source": [
    "## Data\n",
    "### Data acquisition:\n",
    "- The website data will be scraped to find the name of the property, selling price and are in Cape Town.\n",
    "- If data scraping is unsuccessful, the relevant data will be copied to a csv file and imported.\n",
    "- The areas from the website data will be used to obtain data from Foursquare, particularly the name, location and rating for the point of interest.\n",
    "\n",
    "### Data classification:\n",
    "- This data will be used to cluster the points of interest in the same vicinity as the commercial property to determine the better places to start a tourism business. \n",
    "- The clusters will be presented on a map to show density and proximity to other landmarks."
   ]
  },
  {
   "cell_type": "markdown",
   "metadata": {},
   "source": [
    "## Tourism - Real Estate Notebook"
   ]
  },
  {
   "cell_type": "markdown",
   "metadata": {},
   "source": [
    "### Import libraries"
   ]
  },
  {
   "cell_type": "code",
   "execution_count": 83,
   "metadata": {},
   "outputs": [
    {
     "name": "stdout",
     "output_type": "stream",
     "text": [
      "Libraries imported.\n"
     ]
    }
   ],
   "source": [
    "import numpy as np # library to handle data in a vectorized manner\n",
    "import pandas as pd # library for data analsysis\n",
    "import json # library to handle JSON files\n",
    "import requests # library to handle requests\n",
    "from pandas.io.json import json_normalize # tranform JSON file into a pandas dataframe\n",
    "\n",
    "# Matplotlib and associated plotting modules\n",
    "import matplotlib.cm as cm\n",
    "import matplotlib.colors as colors\n",
    "import matplotlib.pyplot as plt # plotting library\n",
    "# backend for rendering plots within the browser\n",
    "%matplotlib inline\n",
    "\n",
    "from sklearn.cluster import KMeans # import k-means from clustering stage\n",
    "from geopy.geocoders import Nominatim # convert an address into latitude and longitude values\n",
    "import folium # map rendering library\n",
    "\n",
    "from bs4 import BeautifulSoup # to scrape web pages \n",
    "import re\n",
    "import urllib # url commands \n",
    "import urllib3\n",
    "\n",
    "import csv # to read and write CSV files\n",
    "from datetime import datetime\n",
    "\n",
    "print('Libraries imported.')"
   ]
  },
  {
   "cell_type": "markdown",
   "metadata": {},
   "source": [
    "##### Website Layout:\n",
    "The website consists of classes taht describe different aspects of the porperties for sale. Onr such class contsins the adrress and the neigbourhood. \n",
    "\n",
    "The deayluist layout consist of 10 listings, but ther ecould be more. Each listing is containced in a seperate class. \n",
    "\n",
    "The website has multiple pages for the search criteria (already embedded in the URL). All the pages will be read to build the dataframe."
   ]
  },
  {
   "cell_type": "code",
   "execution_count": 230,
   "metadata": {},
   "outputs": [
    {
     "name": "stdout",
     "output_type": "stream",
     "text": [
      "https://property.mg.co.za/commercial-property-for-sale-in-cape-town-c432?Mapped=True&Page=1\n"
     ]
    }
   ],
   "source": [
    "# specify the url\n",
    "page1 = 1\n",
    "property_page = 'https://property.mg.co.za/commercial-property-for-sale-in-cape-town-c432?Mapped=True&Page=' + str(page1)\n",
    "print (property_page)\n",
    "\n",
    "# query the website\n",
    "prop_page = urllib.request.urlopen(property_page)\n",
    "\n",
    "# parse the html using beautiful soup \n",
    "property_soup = BeautifulSoup(prop_page, 'html.parser')"
   ]
  },
  {
   "cell_type": "code",
   "execution_count": 231,
   "metadata": {},
   "outputs": [
    {
     "name": "stdout",
     "output_type": "stream",
     "text": [
      "195\n"
     ]
    }
   ],
   "source": [
    "# get the list count\n",
    "list_box = property_soup.find('div', attrs={'class':'sc_pageText pull-right'})\n",
    "list_box_val = (list_box.text.strip())\n",
    "list_count = int(list_box_val.rpartition(\"of \")[2])\n",
    "print (list_count)"
   ]
  },
  {
   "cell_type": "code",
   "execution_count": 232,
   "metadata": {},
   "outputs": [
    {
     "name": "stdout",
     "output_type": "stream",
     "text": [
      "10\n"
     ]
    }
   ],
   "source": [
    "# get the page count\n",
    "first_page = 1\n",
    "last_page = 0\n",
    "for each_pl in property_soup.find_all('li', class_=\"pagelink\"):\n",
    "    last_page = each_pl.text.strip()\n",
    "    \n",
    "print (last_page)"
   ]
  },
  {
   "cell_type": "code",
   "execution_count": 233,
   "metadata": {},
   "outputs": [],
   "source": [
    "# set up the address dataframe and values\n",
    "prop_addr = \"\"\n",
    "prop_addr_ar = [\"\",\"\",\"\"]\n",
    "prop_address = [\"\",\"\",\"\"]\n",
    "property_df = pd.DataFrame({'Street' : pd.Categorical(np.nan),'Neighbourhood' : pd.Categorical(np.nan),\n",
    "                            'City' : pd.Categorical(np.nan)})"
   ]
  },
  {
   "cell_type": "code",
   "execution_count": 234,
   "metadata": {},
   "outputs": [
    {
     "name": "stdout",
     "output_type": "stream",
     "text": [
      "1 https://property.mg.co.za/commercial-property-for-sale-in-cape-town-c432?Mapped=True&Page=1\n",
      "2 https://property.mg.co.za/commercial-property-for-sale-in-cape-town-c432?Mapped=True&Page=2\n",
      "3 https://property.mg.co.za/commercial-property-for-sale-in-cape-town-c432?Mapped=True&Page=3\n",
      "4 https://property.mg.co.za/commercial-property-for-sale-in-cape-town-c432?Mapped=True&Page=4\n",
      "5 https://property.mg.co.za/commercial-property-for-sale-in-cape-town-c432?Mapped=True&Page=5\n",
      "6 https://property.mg.co.za/commercial-property-for-sale-in-cape-town-c432?Mapped=True&Page=6\n",
      "7 https://property.mg.co.za/commercial-property-for-sale-in-cape-town-c432?Mapped=True&Page=7\n",
      "8 https://property.mg.co.za/commercial-property-for-sale-in-cape-town-c432?Mapped=True&Page=8\n",
      "9 https://property.mg.co.za/commercial-property-for-sale-in-cape-town-c432?Mapped=True&Page=9\n",
      "10 https://property.mg.co.za/commercial-property-for-sale-in-cape-town-c432?Mapped=True&Page=10\n"
     ]
    }
   ],
   "source": [
    "# populate the address fields into the dataframe, reading multiple pages\n",
    "# first page is already read - populate values and iterate to next page\n",
    "i = 1\n",
    "j = int(last_page) + 1\n",
    "\n",
    "for i in range(1, j):\n",
    "    print (i, property_page)\n",
    "    \n",
    "    for each_div in property_soup.find_all('div', attrs={'class':'sc_listingTileAddress primaryColor'}):\n",
    "        prop_addr = each_div.text.strip() \n",
    "        prop_addr_ar = prop_addr.split(',')\n",
    "        prop_address[0] = prop_addr_ar[0].strip()\n",
    "        prop_address[1] = prop_addr_ar[1].strip()\n",
    "        prop_address[2] = prop_addr_ar[2].strip()\n",
    "        if prop_address[1] == prop_address[2]:\n",
    "            if len(prop_addr_ar) > 3:\n",
    "                prop_address[2] = prop_addr_ar[3].strip()\n",
    "\n",
    "        property_df = property_df.append({'Street' : prop_address[0],'Neighbourhood' : prop_address[1], \n",
    "                                          'City' : prop_address[2]}, ignore_index=True)\n",
    "        \n",
    "    i = i + 1\n",
    "    property_page = 'https://property.mg.co.za/commercial-property-for-sale-in-cape-town-c432?Mapped=True&Page=' + str(i)"
   ]
  },
  {
   "cell_type": "code",
   "execution_count": 235,
   "metadata": {},
   "outputs": [
    {
     "name": "stdout",
     "output_type": "stream",
     "text": [
      "Dataframe size:  630  :  Index(['Street', 'Neighbourhood', 'City'], dtype='object')\n",
      "              Street Neighbourhood       City\n",
      "1  3 Riverstone Road       Wynberg  Cape Town\n",
      "2   F2 Bell Crescent      Westlake  Cape Town\n",
      "3   F2 Bell Crescent      Westlake  Cape Town\n",
      "4   F2 Bell Crescent      Westlake  Cape Town\n",
      "5     7 Station Road    Rondebosch  Cape Town\n",
      "\n",
      "l <bound method NDFrame.describe of                   Street          Neighbourhood       City\n",
      "1      3 Riverstone Road                Wynberg  Cape Town\n",
      "2       F2 Bell Crescent               Westlake  Cape Town\n",
      "3       F2 Bell Crescent               Westlake  Cape Town\n",
      "4       F2 Bell Crescent               Westlake  Cape Town\n",
      "5         7 Station Road             Rondebosch  Cape Town\n",
      "..                   ...                    ...        ...\n",
      "206  A10 Westlake Square               Westlake  Cape Town\n",
      "207    121 Castle Street  Cape Town City Centre  Cape Town\n",
      "208  E6A Westlake Square               Westlake  Cape Town\n",
      "209    32 Barnett street                Gardens  Cape Town\n",
      "210   218 Sir Lowry Road              Woodstock  Cape Town\n",
      "\n",
      "[210 rows x 3 columns]>\n"
     ]
    }
   ],
   "source": [
    "property_df.dropna(inplace=True)\n",
    "property_df.reindex()\n",
    "print (\"Dataframe size: \", property_df.size, \" : \", property_df.columns)\n",
    "print (property_df.head())\n",
    "print ('\\nl', property_df.describe)"
   ]
  },
  {
   "cell_type": "code",
   "execution_count": null,
   "metadata": {},
   "outputs": [],
   "source": []
  }
 ],
 "metadata": {
  "kernelspec": {
   "display_name": "Python 3",
   "language": "python",
   "name": "python3"
  },
  "language_info": {
   "codemirror_mode": {
    "name": "ipython",
    "version": 3
   },
   "file_extension": ".py",
   "mimetype": "text/x-python",
   "name": "python",
   "nbconvert_exporter": "python",
   "pygments_lexer": "ipython3",
   "version": "3.7.3"
  }
 },
 "nbformat": 4,
 "nbformat_minor": 4
}
